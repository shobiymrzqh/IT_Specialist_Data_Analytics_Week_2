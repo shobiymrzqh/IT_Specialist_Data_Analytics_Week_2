{
 "cells": [
  {
   "cell_type": "markdown",
   "id": "cf24f5db-9b47-45c1-a66f-c1cf71b1c60d",
   "metadata": {},
   "source": [
    "# Types of Data analysis"
   ]
  },
  {
   "cell_type": "markdown",
   "id": "0ef9ab52-a784-45eb-9a6a-c8b84f4a2792",
   "metadata": {},
   "source": [
    "## 1) Descriptive analysis\n",
    "Descriptive analysis is a form of data examination that assists in the portrayal, illustration, or informative consolidation of data points, enabling the emergence of patterns that fulfill all the criteria of the dataset.\n",
    "\n",
    "## 2) Diagnostic analysis\n",
    "Diagnostic analytics examines data to understand the root causes of events, behaviors, and outcomes. Data analysts use diverse techniques and tools to identify patterns, trends, and connections to explain why happened.\n",
    "\n",
    "## 3) Predictive analysis\n",
    "Predictive analytics seeks to anticipate future events by examining historical data, employing statistical modeling, machine learning, and artificial intelligence to project potential outcomes.\n",
    "\n",
    "## 4) Prescriptive analysis\n",
    "Prescriptive analytics delves beyond predictive analytics, examining the correlation between specific variables and their influence on the ultimate result. Its emphasis lies in determining the actions necessary to achieve desired outcomes."
   ]
  },
  {
   "cell_type": "markdown",
   "id": "44c09a2b-d5e6-403c-be96-8b2f28693219",
   "metadata": {},
   "source": [
    "### Example: "
   ]
  },
  {
   "cell_type": "markdown",
   "id": "969ab058-4819-4d64-af01-f0d8af041d9f",
   "metadata": {},
   "source": [
    "#### Study case\n",
    "title: Lack of public interest in using online driver than traditional driver\n",
    "\n",
    "In Jakarta City, traditional driver (ojek pangkalan) has long been a favorite transportation option for locals. However, in recent years, there has been a significant decline in interest in using traditional driver. traditional driver have reported a significant drop in income, while users have also turned to other alternatives such as online online online driver and public transportation. d"
   ]
  },
  {
   "cell_type": "markdown",
   "id": "efce6d55-9010-4bfc-aee9-c77d8e68a5b8",
   "metadata": {},
   "source": [
    "- Root causes\n",
    "    - Technology Imbalance\r\n",
    "    - Lack of Innovation\r\n",
    "    - Consumer Awareness\n",
    "\n",
    "- Soluti\n",
    "    - Technology Imbalanceo    n\n",
    "    - Collaborate with onlindriverxi applications for integration with onlindriverxi services, so that users can choose between onlindriverxi antraditional driverxi in one application.     \r",
    "    traditional driverlan can develop their own applications or digital platforms to improve service quality, price transparency, and convenience for consume\n",
    "    - Lack of Innovation\n",
    "        - Conduct training for traditional driver to blend with technology\r",
    "        - \n",
    "Conduct training tomtraditional drivers to improve service quality. Good service quality is an attraction for consumers\n",
    "    - Consumer Awarenes\n",
    "        - Partnerships with local communities such as community organizations or youth groups, to disseminate information about services at traditional driver.\r",
    "        - \n",
    "Free demonstration and trial programs where the public can try services at traditional ojek bases for free or with discountss- ."
   ]
  },
  {
   "cell_type": "code",
   "execution_count": null,
   "id": "2e882b6b-e833-4f1c-8d20-fcb8787c99a7",
   "metadata": {},
   "outputs": [],
   "source": []
  }
 ],
 "metadata": {
  "kernelspec": {
   "display_name": "Python 3 (ipykernel)",
   "language": "python",
   "name": "python3"
  },
  "language_info": {
   "codemirror_mode": {
    "name": "ipython",
    "version": 3
   },
   "file_extension": ".py",
   "mimetype": "text/x-python",
   "name": "python",
   "nbconvert_exporter": "python",
   "pygments_lexer": "ipython3",
   "version": "3.9.19"
  }
 },
 "nbformat": 4,
 "nbformat_minor": 5
}
